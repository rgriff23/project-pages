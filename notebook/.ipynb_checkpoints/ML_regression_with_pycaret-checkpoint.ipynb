{
 "cells": [
  {
   "cell_type": "markdown",
   "id": "c821edfc-4172-4fe9-8f51-a7a7c872d16e",
   "metadata": {},
   "source": [
    "# Introduction"
   ]
  },
  {
   "cell_type": "code",
   "execution_count": 1,
   "id": "f8a77f6a-36d5-40d4-b914-9a80a84bbc74",
   "metadata": {},
   "outputs": [
    {
     "name": "stdout",
     "output_type": "stream",
     "text": [
      "First notebook\n"
     ]
    }
   ],
   "source": [
    "print(\"First notebook\")"
   ]
  },
  {
   "cell_type": "code",
   "execution_count": null,
   "id": "caa84aff-e0fe-4cbe-adaa-5bf5b83db111",
   "metadata": {},
   "outputs": [],
   "source": []
  }
 ],
 "metadata": {
  "kernelspec": {
   "display_name": "Python 3 (ipykernel)",
   "language": "python",
   "name": "python3"
  },
  "language_info": {
   "codemirror_mode": {
    "name": "ipython",
    "version": 3
   },
   "file_extension": ".py",
   "mimetype": "text/x-python",
   "name": "python",
   "nbconvert_exporter": "python",
   "pygments_lexer": "ipython3",
   "version": "3.7.8"
  }
 },
 "nbformat": 4,
 "nbformat_minor": 5
}
